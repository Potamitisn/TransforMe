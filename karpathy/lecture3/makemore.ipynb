{
 "cells": [
  {
   "cell_type": "markdown",
   "metadata": {},
   "source": [
    "# Lecture 3 - Building makemore Part 2 : MLP\n",
    "\n",
    "We implement a multilayer perceptron (MLP) character-level language model. In this video we also introduce many basics of machine learning (e.g. model training, learning rate tuning, hyperparameters, evaluation, train/dev/test splits, under/overfitting, etc.).\n",
    "\n",
    "- [YouTube video lecture](https://youtu.be/TCH_1BHY58I)\n",
    "- [Jupyter notebook files](lectures/makemore/makemore_part2_mlp.ipynb)\n",
    "- [makemore Github repo](https://github.com/karpathy/makemore)\n",
    "\n",
    "Will be following the paper : [A Neural Probabilistic Language Model](https://www.jmlr.org/papers/volume3/bengio03a/bengio03a.pdf)\n",
    "\n",
    "<div>\n",
    "<img src=\"architecture.png\" width=\"500\"/>\n",
    "</div>\n"
   ]
  },
  {
   "cell_type": "code",
   "execution_count": 1,
   "metadata": {},
   "outputs": [],
   "source": [
    "import torch\n",
    "import torch.nn.functional as F\n",
    "import matplotlib.pyplot as plt\n",
    "%matplotlib inline"
   ]
  },
  {
   "cell_type": "markdown",
   "metadata": {},
   "source": [
    "## The dataset"
   ]
  },
  {
   "cell_type": "code",
   "execution_count": 2,
   "metadata": {},
   "outputs": [
    {
     "name": "stdout",
     "output_type": "stream",
     "text": [
      "Word examples : words[:8]=['emma', 'olivia', 'ava', 'isabella', 'sophia', 'charlotte', 'mia', 'amelia']\n",
      "Total number of words : 32033\n"
     ]
    }
   ],
   "source": [
    "words = open(\"names.txt\", \"r\").read().splitlines()\n",
    "print(f\"Word examples : {words[:8]=}\")\n",
    "print(f\"Total number of words : {len(words)}\")"
   ]
  },
  {
   "cell_type": "code",
   "execution_count": 3,
   "metadata": {},
   "outputs": [
    {
     "name": "stdout",
     "output_type": "stream",
     "text": [
      "itos={1: 'a', 2: 'b', 3: 'c', 4: 'd', 5: 'e', 6: 'f', 7: 'g', 8: 'h', 9: 'i', 10: 'j', 11: 'k', 12: 'l', 13: 'm', 14: 'n', 15: 'o', 16: 'p', 17: 'q', 18: 'r', 19: 's', 20: 't', 21: 'u', 22: 'v', 23: 'w', 24: 'x', 25: 'y', 26: 'z', 0: '.'}\n"
     ]
    }
   ],
   "source": [
    "# Build the vocabulary of characters and mappings to/from integers\n",
    "\n",
    "chars = sorted(list(set(\"\".join(words)))) # All distinct characters from all words of the dataset\n",
    "stoi = {s : i+1 for i, s in enumerate(chars)}\n",
    "stoi[\".\"] = 0\n",
    "itos = {i : s for s, i in stoi.items()}\n",
    "print(f\"{itos=}\")"
   ]
  },
  {
   "cell_type": "code",
   "execution_count": 23,
   "metadata": {},
   "outputs": [
    {
     "name": "stdout",
     "output_type": "stream",
     "text": [
      "emma\n",
      "... ---> e\n",
      "..e ---> m\n",
      ".em ---> m\n",
      "emm ---> a\n",
      "mma ---> .\n",
      "olivia\n",
      "... ---> o\n",
      "..o ---> l\n",
      ".ol ---> i\n",
      "oli ---> v\n",
      "liv ---> i\n",
      "ivi ---> a\n",
      "via ---> .\n",
      "ava\n",
      "... ---> a\n",
      "..a ---> v\n",
      ".av ---> a\n",
      "ava ---> .\n",
      "isabella\n",
      "... ---> i\n",
      "..i ---> s\n",
      ".is ---> a\n",
      "isa ---> b\n",
      "sab ---> e\n",
      "abe ---> l\n",
      "bel ---> l\n",
      "ell ---> a\n",
      "lla ---> .\n",
      "sophia\n",
      "... ---> s\n",
      "..s ---> o\n",
      ".so ---> p\n",
      "sop ---> h\n",
      "oph ---> i\n",
      "phi ---> a\n",
      "hia ---> .\n"
     ]
    }
   ],
   "source": [
    "# Build the dataset\n",
    "\n",
    "block_size = 3 # context length : how many characters we consider as input to predict the next one (output) ?\n",
    "X, Y = [], []\n",
    "\n",
    "for i, w in enumerate(words):\n",
    "\n",
    "    if i < 5:\n",
    "        print(w)\n",
    "    context = [0] * block_size # context is interchangeable with input for this task\n",
    "\n",
    "    for ch in w + \".\": # ch will be the character we want to predict (output)\n",
    "        ix = stoi[ch]\n",
    "        X.append(context)\n",
    "        Y.append(ix)\n",
    "        if i < 5:\n",
    "            print(\"\".join(itos[i] for i in context), \"--->\", itos[ix])\n",
    "        context = context[1:] + [ix] # Update context (input) by sliding it one position to the right\n",
    "\n",
    "X = torch.tensor(X)\n",
    "Y = torch.tensor(Y)"
   ]
  },
  {
   "cell_type": "code",
   "execution_count": 24,
   "metadata": {},
   "outputs": [
    {
     "data": {
      "text/plain": [
       "(torch.Size([228146, 3]), torch.int64, torch.Size([228146]), torch.int64)"
      ]
     },
     "execution_count": 24,
     "metadata": {},
     "output_type": "execute_result"
    }
   ],
   "source": [
    "X.shape, X.dtype, Y.shape, Y.dtype"
   ]
  },
  {
   "cell_type": "markdown",
   "metadata": {},
   "source": [
    "## Embedding table"
   ]
  },
  {
   "cell_type": "code",
   "execution_count": 25,
   "metadata": {},
   "outputs": [
    {
     "name": "stdout",
     "output_type": "stream",
     "text": [
      "C[5]=tensor([-0.8797, -0.5731])\n",
      "C[[5,6,6]]=tensor([[-0.8797, -0.5731],\n",
      "        [-0.4223, -0.9692],\n",
      "        [-0.4223, -0.9692]])\n",
      "C[torch.tensor([5,6,6])]=tensor([[-0.8797, -0.5731],\n",
      "        [-0.4223, -0.9692],\n",
      "        [-0.4223, -0.9692]])\n",
      "C[X].shape=torch.Size([228146, 3, 2])\n"
     ]
    },
    {
     "data": {
      "text/plain": [
       "(torch.Size([228146, 3, 2]), torch.Size([3, 2]), torch.Size([2]))"
      ]
     },
     "execution_count": 25,
     "metadata": {},
     "output_type": "execute_result"
    }
   ],
   "source": [
    "C = torch.randn((27, 2)) # Each character will have a 2-dimensional embedding\n",
    "\n",
    "# Get embedding of int 5 : Can either index or one-hot\n",
    "assert (C[5] == F.one_hot(torch.tensor(5), num_classes=27).float() @ C).all().item()\n",
    "print(f\"{C[5]=}\") # Choose indexing just cause it's easier\n",
    "\n",
    "# Can also use list or tensors to index multiple inputs\n",
    "print(f\"{C[[5,6,6]]=}\")\n",
    "print(f\"{C[torch.tensor([5,6,6])]=}\")\n",
    "\n",
    "# Can also embed multidimensional tensors simultaneously\n",
    "print(f\"{C[X].shape=}\") # For each sample (32 samples) and each integer of the sample (3 int per sample) get the embedding (2 floats per embedding)\n",
    "emb = C[X]\n",
    "\n",
    "assert (C[X][4,2] == C[X[4, 2]]).all().item()\n",
    "\n",
    "emb.shape, emb[30].shape, emb[30][2].shape"
   ]
  },
  {
   "cell_type": "markdown",
   "metadata": {},
   "source": [
    "## Hidden layer"
   ]
  },
  {
   "cell_type": "markdown",
   "metadata": {},
   "source": [
    "- The hidden layer will recieve as input the embeddings of all characters within the context length. We consider 3 characters as context. Each character is encoded using a 2 dimensional vector (at this moment). Therefore $3 \\times 2 = 6$ total input numbers. As a result each neuron must have 6 weight parameters.\n",
    "- The number of neurons within the hidden layer is a hyperparameter. We can tune it as we like. For the beginning we consider 100 neurons.\n",
    "- Bias will be a vector, with 1 bias parameter per neuron. Therefore, the initial bias parameters will be 100.\n",
    "\n",
    "**tensor.unbind(dim)** : Provides a list for all indexed versions of the tensor along the given dimension.\n",
    "- For example, `emb.unbind(dim=1) == [emb[:, 0, :], emb[:, 1, :], emb[:, 2, :]]`, for `emb` with shape `[32,3,2]`. \n",
    "\n",
    "**tensor.view(...)** : Extremely efficient operation. That is because in the memory each tensor is saved as a list `tensor.storage` and then interpeted differently using strides and shapes (This is just **the way I see it**, not an actual explanation of how it works). Using `tensor.view()` does not create a new tensor or interact with the memory. It simply changes how `tensor.storage` is interpreted.\n",
    "- When using `-1` as a dimension in the view, pytorch will derive what this dimension will be. This can be done as the total number of elements must remain the same\n",
    "\n",
    "**Efficiency** : `tensor.view`is much more efficient that `torch.cat`. That's because `torch.cat` creates a whole new tensor in the memory while `tensor.view` simply interprets the currently stored tensor in a different way"
   ]
  },
  {
   "cell_type": "code",
   "execution_count": 27,
   "metadata": {},
   "outputs": [
    {
     "name": "stdout",
     "output_type": "stream",
     "text": [
      "emb.shape=torch.Size([228146, 3, 2])\n",
      "W1.shape=torch.Size([6, 100])\n",
      "(emb[:, 0, :].shape, emb[:, 1, :].shape, emb[:, 2, :].shape)=(torch.Size([228146, 2]), torch.Size([228146, 2]), torch.Size([228146, 2]))\n",
      "concat_option.shape=torch.Size([228146, 6])\n",
      "view_option.shape=torch.Size([228146, 6])\n",
      "h.shape=torch.Size([228146, 100])\n"
     ]
    }
   ],
   "source": [
    "W1 =  torch.randn((6, 100 )) \n",
    "b1 = torch.randn(100)\n",
    "\n",
    "#--- emb @ W1 + b1 is what we wanna do but current dimensions do not match, we have to adapt emb ---#\n",
    "print(f\"{emb.shape=}\")\n",
    "print(f\"{W1.shape=}\")\n",
    "\n",
    "# The inputs we want : 32x2 (32 samples, floats per embedding) matrices with embeddings of the first, second and third word for each sample  \n",
    "print(f\"{(emb[:, 0, :].shape, emb[:, 1, :].shape, emb[:, 2, :].shape)=}\")\n",
    "\n",
    "# 1st option : We concat the matrices that we want\n",
    "concat_option = torch.cat(emb.unbind(dim=1), dim=1)\n",
    "print(f\"{concat_option.shape=}\")\n",
    "\n",
    "# 2nd option : We change the view\n",
    "view_option = emb.view(-1, 6)\n",
    "print(f\"{view_option.shape=}\")\n",
    "\n",
    "assert (concat_option == view_option).all().item() # Concat and View option result in the tensor\n",
    "assert (emb.view(emb.shape [0], 6) == emb.view(-1, 6)).all().item() # -1 Derives correctly the dimension size\n",
    "\n",
    "h = torch.tanh(emb.view(-1, 6) @ W1 + b1) # Output of first layer\n",
    "print(f\"{h.shape=}\")"
   ]
  },
  {
   "cell_type": "markdown",
   "metadata": {},
   "source": [
    "## Output layer"
   ]
  },
  {
   "cell_type": "markdown",
   "metadata": {},
   "source": [
    "\n",
    "Linear layer with 27 neurons"
   ]
  },
  {
   "cell_type": "code",
   "execution_count": 28,
   "metadata": {},
   "outputs": [],
   "source": [
    "W2 = torch.randn((100, 27)) # 27 Neurons of 100 weight parameters each\n",
    "b2 = torch.randn(27)        # 27 bias parameters (1 per neuron )\n",
    "logits = h @ W2 + b2 # Log-counts (output that we assume to represent log.counts)"
   ]
  },
  {
   "cell_type": "markdown",
   "metadata": {},
   "source": [
    "## Loss"
   ]
  },
  {
   "cell_type": "markdown",
   "metadata": {},
   "source": [
    "We're gonna be using negative average log-likelihood loss.\n",
    "\n",
    "**Reasons to use F.cross_entropy in place of implementing it** \n",
    "- Memory doesn't save in-between computations.\n",
    "- In general, it might have a simpler mathematic expression when computing the derivative and therefore reduce computation costs (eg. tanh).\n",
    "- Works better numerically when going over very small number (eg. floating out of range). This is achieved by element-wise subtraction of the max element. This does not change the eventual probabilities due to normalization\n",
    "\n",
    "$ x_i \\rightarrow e^{x_i} \\rightarrow \\frac{e^{x_i}}{\\sum e^{x_j}}$\n",
    "\n",
    "$x_i + y \\rightarrow e^{x_i + y} = e^{x_i}\\times e^y \\rightarrow \\frac{e^{x_i}\\times e^y}{\\sum e^{x_j}\\times e^y} = \\frac{e^{x_i}}{\\sum e^{x_j}}$\n",
    "\n",
    "**Negative log-likelihood** : Measures how well a probability distribution predicts the observed data.\n",
    "\n",
    "**Cross-entropy** : Cross-entropy is a measure of the difference between two probability distributions for a given set of events or outcomes.\n",
    "\n",
    "- In this context the true probability distribution are probability vectors for filled with zeros except the probability of the index of the ground truth output which is equal to 1."
   ]
  },
  {
   "cell_type": "code",
   "execution_count": 29,
   "metadata": {},
   "outputs": [
    {
     "data": {
      "text/plain": [
       "tensor([1.2747e-02, 3.4649e-02, 6.3462e-04, 2.5602e-01, 6.9595e-01])"
      ]
     },
     "execution_count": 29,
     "metadata": {},
     "output_type": "execute_result"
    }
   ],
   "source": [
    "a = torch.tensor([1,2,-2,4,5]) - 33\n",
    "a = a.exp()\n",
    "a / a.sum()"
   ]
  },
  {
   "cell_type": "code",
   "execution_count": 30,
   "metadata": {},
   "outputs": [
    {
     "data": {
      "text/plain": [
       "(tensor(15.1281), tensor(15.1281))"
      ]
     },
     "execution_count": 30,
     "metadata": {},
     "output_type": "execute_result"
    }
   ],
   "source": [
    "counts = logits.exp()\n",
    "prob = counts / counts.sum(dim=1, keepdim=True)\n",
    "loss_option1 = - prob[torch.arange(len(Y)), Y].log().mean() # NLL\n",
    "loss_option2 = F.cross_entropy(logits, Y)\n",
    "\n",
    "assert (abs(prob.sum(dim=1)-1.0) < 1e-6).all().item()\n",
    "assert torch.allclose(loss_option1, loss_option2)\n",
    "\n",
    "loss_option1, loss_option2"
   ]
  },
  {
   "cell_type": "markdown",
   "metadata": {},
   "source": [
    "## Summarizing NN so far"
   ]
  },
  {
   "cell_type": "code",
   "execution_count": 31,
   "metadata": {},
   "outputs": [
    {
     "data": {
      "text/plain": [
       "(torch.Size([228146, 3]), torch.Size([228146]))"
      ]
     },
     "execution_count": 31,
     "metadata": {},
     "output_type": "execute_result"
    }
   ],
   "source": [
    "# Inputs and Outputs\n",
    "X.shape, Y.shape"
   ]
  },
  {
   "cell_type": "code",
   "execution_count": 133,
   "metadata": {},
   "outputs": [],
   "source": [
    "# Neural network\n",
    "g = torch.Generator().manual_seed(2147483647) # for reproducibility\n",
    "C = torch.randn((27, 2), generator=g)\n",
    "W1 = torch.randn((6, 100), generator=g)\n",
    "b1 = torch.randn(100, generator=g)\n",
    "W2 = torch.randn((100, 27), generator=g)\n",
    "b2 = torch.randn(27, generator=g)"
   ]
  },
  {
   "cell_type": "code",
   "execution_count": 134,
   "metadata": {},
   "outputs": [
    {
     "name": "stdout",
     "output_type": "stream",
     "text": [
      "Total number of parameters : 3481\n"
     ]
    }
   ],
   "source": [
    "# Parameters\n",
    "parameters = [C, W1, b1, W2, b2]\n",
    "\n",
    "# Require grad for all parameters:\n",
    "for p in parameters:\n",
    "    p.requires_grad = True\n",
    "\n",
    "print(f\"Total number of parameters : {sum(p.nelement() for p in parameters)}\")"
   ]
  },
  {
   "cell_type": "code",
   "execution_count": 50,
   "metadata": {},
   "outputs": [
    {
     "name": "stdout",
     "output_type": "stream",
     "text": [
      "tensor(6.7950, grad_fn=<NllLossBackward0>)\n",
      "tensor(6.6766, grad_fn=<NllLossBackward0>)\n",
      "tensor(6.5633, grad_fn=<NllLossBackward0>)\n",
      "tensor(6.4548, grad_fn=<NllLossBackward0>)\n",
      "tensor(6.3507, grad_fn=<NllLossBackward0>)\n",
      "tensor(6.2506, grad_fn=<NllLossBackward0>)\n",
      "tensor(6.1544, grad_fn=<NllLossBackward0>)\n",
      "tensor(6.0618, grad_fn=<NllLossBackward0>)\n",
      "tensor(5.9725, grad_fn=<NllLossBackward0>)\n",
      "tensor(5.8863, grad_fn=<NllLossBackward0>)\n",
      "Final loss : 5.8863\n"
     ]
    }
   ],
   "source": [
    "for i in range(10): \n",
    "    # Forward pass\n",
    "    emb = C[X] #(32, 3, 2) : 32 samples, 3 words per sample, 2 floats per sample embedding\n",
    "    h = torch.tanh(emb.view(-1, 6) @ W1 + b1)\n",
    "    logits = h @ W2 + b2\n",
    "    loss = F.cross_entropy(logits, Y)\n",
    "    print(loss)\n",
    "\n",
    "    # Backwardpass\n",
    "    for p in parameters:\n",
    "        p.grad = None\n",
    "    loss.backward()\n",
    "\n",
    "    # Update the parameters\n",
    "    for p in parameters:\n",
    "        p.data += -0.1 * p.grad\n",
    "print(f\"Final loss : {loss.item():.4f}\")"
   ]
  },
  {
   "cell_type": "markdown",
   "metadata": {},
   "source": [
    "## Minibatches\n",
    "\n",
    "**Minibatches** : In practise people dont perform the forward and backward pass on the whole dataset but random minibatches of it.\n",
    "- Less samples so we can run more examples, in less time.\n",
    "- Less samples so the quality of the gradient and therefore its direction too is not as consistent. More like an approximation. Still better to have gradient approximation and make more steps rather than having the \"exact\" gradient and making less steps.\n",
    "\n",
    "- Note : At the end the loss accumulates a thickness because of these minibatches.\n",
    " "
   ]
  },
  {
   "cell_type": "code",
   "execution_count": 64,
   "metadata": {},
   "outputs": [
    {
     "name": "stdout",
     "output_type": "stream",
     "text": [
      "Final loss (of the last minibatch): 2.6310\n",
      "Final loss (of the whole dataset): 2.6880\n",
      "\n",
      "\n",
      "ix.shape=torch.Size([32])\n",
      "X.shape=torch.Size([228146, 3])\tX[ix].shape=torch.Size([32, 3])\n",
      "C.shape=torch.Size([27, 2])\tC[X].shape=torch.Size([228146, 3, 2])\tC[X[ix]].shape=torch.Size([32, 3, 2])\n"
     ]
    }
   ],
   "source": [
    "for _ in range(1000): \n",
    "\n",
    "    # Minibatch construct\n",
    "    ix = torch.randint(low=0, high=X.shape[0], size=(32,)) # Minibatch of random 0 <= indices < X.shape[0] of size 32\n",
    "\n",
    "\n",
    "    # Forward pass\n",
    "    emb = C[X[ix]] \n",
    "    h = torch.tanh(emb.view(-1, 6) @ W1 + b1)\n",
    "    logits = h @ W2 + b2\n",
    "    loss = F.cross_entropy(logits, Y[ix])\n",
    "\n",
    "    # Backwardpass\n",
    "    for p in parameters:\n",
    "        p.grad = None\n",
    "    loss.backward()\n",
    "\n",
    "    # Update the parameters\n",
    "    for p in parameters:\n",
    "        p.data += -0.1 * p.grad\n",
    "\n",
    "print(f\"Final loss (of the last minibatch): {loss.item():.4f}\")\n",
    "\n",
    "# Compute loss across whole dataset\n",
    "emb = C[X] \n",
    "h = torch.tanh(emb.view(-1, 6) @ W1 + b1)\n",
    "logits = h @ W2 + b2\n",
    "loss = F.cross_entropy(logits, Y)\n",
    "print(f\"Final loss (of the whole dataset): {loss.item():.4f}\")\n",
    "\n",
    "print(f\"\\n\\n{ix.shape=}\\n{X.shape=}\\t{X[ix].shape=}\\n{C.shape=}\\t{C[X].shape=}\\t{C[X[ix]].shape=}\")"
   ]
  },
  {
   "cell_type": "markdown",
   "metadata": {},
   "source": [
    "## Learning rate\n",
    "\n",
    "**Initial learning rate** : To determine a good initial learning rate you can vary the rates along the training and track both itself and the loss. Once loss starts to deteriorate (eg. increase), you can select that as the initial learning rate. Based on our plots at the very end we can conclude that a proper learning rate for this experiment would be $0.1$. \n",
    "\n",
    "**Decaying learning rate** : Once loss plateaus you can reduce learning rate even further and perform a few steps."
   ]
  },
  {
   "cell_type": "code",
   "execution_count": 87,
   "metadata": {},
   "outputs": [
    {
     "name": "stdout",
     "output_type": "stream",
     "text": [
      "Final loss (of the last minibatch): 6.9330\n",
      "Final loss (of the whole dataset): 5.5952\n",
      "\n",
      "\n",
      "ix.shape=torch.Size([32])\n",
      "X.shape=torch.Size([228146, 3])\tX[ix].shape=torch.Size([32, 3])\n",
      "C.shape=torch.Size([27, 2])\tC[X].shape=torch.Size([228146, 3, 2])\tC[X[ix]].shape=torch.Size([32, 3, 2])\n"
     ]
    },
    {
     "data": {
      "image/png": "[encoded data removed]",
      "text/plain": [
       "<Figure size 1000x400 with 2 Axes>"
      ]
     },
     "metadata": {},
     "output_type": "display_data"
    }
   ],
   "source": [
    "lre = torch.linspace(start=-3, end=0, steps=1000) # Makes n=steps numbers between start and end spaced linearly\n",
    "lrs = 10 ** lre # Simple transformation to space samples exponentially\n",
    "\n",
    "lri = []\n",
    "lrei = []\n",
    "lossi = []\n",
    "\n",
    "for i in range(1000): \n",
    "\n",
    "    # Minibatch construct\n",
    "    ix = torch.randint(low=0, high=X.shape[0], size=(32,)) \n",
    "\n",
    "\n",
    "    # Forward pass\n",
    "    emb = C[X[ix]] \n",
    "    h = torch.tanh(emb.view(-1, 6) @ W1 + b1)\n",
    "    logits = h @ W2 + b2\n",
    "    loss = F.cross_entropy(logits, Y[ix])\n",
    "\n",
    "    # Backwardpass\n",
    "    for p in parameters:\n",
    "        p.grad = None\n",
    "    loss.backward()\n",
    "\n",
    "    # Update the parameters\n",
    "    lr = lrs[i] # Varying the learning rate\n",
    "    for p in parameters:\n",
    "        p.data += -lr * p.grad\n",
    "    \n",
    "    # Track stats\n",
    "    lri.append(lr) # learning rate\n",
    "    lrei.append(lre[i])\n",
    "    lossi.append(loss.item()) # loss\n",
    "\n",
    "print(f\"Final loss (of the last minibatch): {loss.item():.4f}\")\n",
    "\n",
    "# Compute loss across whole dataset\n",
    "emb = C[X] \n",
    "h = torch.tanh(emb.view(-1, 6) @ W1 + b1)\n",
    "logits = h @ W2 + b2\n",
    "loss = F.cross_entropy(logits, Y)\n",
    "print(f\"Final loss (of the whole dataset): {loss.item():.4f}\")\n",
    "\n",
    "print(f\"\\n\\n{ix.shape=}\\n{X.shape=}\\t{X[ix].shape=}\\n{C.shape=}\\t{C[X].shape=}\\t{C[X[ix]].shape=}\")\n",
    "\n",
    "fig, (ax1, ax2) = plt.subplots(1, 2, figsize=(10, 4))\n",
    "\n",
    "ax1.plot(lri, lossi)\n",
    "ax1.set_xlabel(\"Learning rate\")\n",
    "ax1.set_ylabel(\"Average NLL\")\n",
    "ax2.plot(lrei, lossi)\n",
    "ax2.set_xlabel(\"Exponent of the learning rate ($10^x$)\")\n",
    "ax2.set_ylabel(\"Average NLL\")\n",
    "plt.show()"
   ]
  },
  {
   "cell_type": "code",
   "execution_count": 114,
   "metadata": {},
   "outputs": [
    {
     "name": "stdout",
     "output_type": "stream",
     "text": [
      "Final loss (of the last minibatch): 2.3348\n",
      "Final loss (of the whole dataset): 2.2988\n"
     ]
    },
    {
     "data": {
      "image/png": "[encoded data removed]",
      "text/plain": [
       "<Figure size 640x480 with 1 Axes>"
      ]
     },
     "metadata": {},
     "output_type": "display_data"
    }
   ],
   "source": [
    "# Training with selected learning rate : Starting with 0.1 and once loss plateaus switch to 0.01\n",
    "lossi = []\n",
    "for i in range(10000): \n",
    "\n",
    "    # Minibatch construct\n",
    "    ix = torch.randint(low=0, high=X.shape[0], size=(32,)) \n",
    "\n",
    "    # Forward pass\n",
    "    emb = C[X[ix]] \n",
    "    h = torch.tanh(emb.view(-1, 6) @ W1 + b1)\n",
    "    logits = h @ W2 + b2\n",
    "    loss = F.cross_entropy(logits, Y[ix])\n",
    "\n",
    "    # Backwardpass\n",
    "    for p in parameters:\n",
    "        p.grad = None\n",
    "    loss.backward()\n",
    "\n",
    "    # Update the parameters\n",
    "    for p in parameters:\n",
    "        p.data += -0.01 * p.grad\n",
    "    \n",
    "    # Track stats\n",
    "    lossi.append(loss.item()) # loss\n",
    "\n",
    "print(f\"Final loss (of the last minibatch): {loss.item():.4f}\")\n",
    "\n",
    "# Compute loss across whole dataset\n",
    "emb = C[X] \n",
    "h = torch.tanh(emb.view(-1, 6) @ W1 + b1)\n",
    "logits = h @ W2 + b2\n",
    "loss = F.cross_entropy(logits, Y)\n",
    "print(f\"Final loss (of the whole dataset): {loss.item():.4f}\")\n",
    "\n",
    "plt.plot(range(len(lossi)), lossi)\n",
    "plt.show()"
   ]
  },
  {
   "cell_type": "markdown",
   "metadata": {},
   "source": [
    "## Splitting the dataset\n",
    "\n",
    "**Train split** : Used to train the parameters of the model (~80%).\n",
    "\n",
    "**Validation split** : Used to train the hyperparameters of the model (~10%).\n",
    "\n",
    "**Test split** : Used to evaluate the performance of the model at the end (~10%).\n",
    "\n",
    "- Note : Training loss $\\approx$ Validation loss means we haven't overfitted but probably underfitted."
   ]
  },
  {
   "cell_type": "code",
   "execution_count": 117,
   "metadata": {},
   "outputs": [
    {
     "name": "stdout",
     "output_type": "stream",
     "text": [
      "torch.Size([182625, 3]) torch.Size([182625])\n",
      "torch.Size([22655, 3]) torch.Size([22655])\n",
      "torch.Size([22866, 3]) torch.Size([22866])\n"
     ]
    }
   ],
   "source": [
    "# build the dataset\n",
    "\n",
    "def build_dataset(words, block_size=3):\n",
    "  # Exact same thing as before\n",
    "  X, Y = [], []\n",
    "  for w in words:\n",
    "\n",
    "    #print(w)\n",
    "    context = [0] * block_size\n",
    "    for ch in w + '.':\n",
    "      ix = stoi[ch]\n",
    "      X.append(context)\n",
    "      Y.append(ix)\n",
    "      context = context[1:] + [ix]\n",
    "\n",
    "  X = torch.tensor(X)\n",
    "  Y = torch.tensor(Y)\n",
    "  print(X.shape, Y.shape)\n",
    "  return X, Y\n",
    "\n",
    "import random\n",
    "random.seed(42)\n",
    "random.shuffle(words)\n",
    "n1 = int(0.8*len(words))\n",
    "n2 = int(0.9*len(words))\n",
    "\n",
    "Xtr, Ytr = build_dataset(words[:n1])\n",
    "Xdev, Ydev = build_dataset(words[n1:n2])\n",
    "Xte, Yte = build_dataset(words[n2:])"
   ]
  },
  {
   "cell_type": "code",
   "execution_count": 135,
   "metadata": {},
   "outputs": [
    {
     "name": "stdout",
     "output_type": "stream",
     "text": [
      "Training loss: 2.5780\n",
      "Validation loss: 2.5708\n"
     ]
    }
   ],
   "source": [
    "# Training on the splits\n",
    "lossi = []\n",
    "for i in range(10000): \n",
    "\n",
    "    # Minibatch construct\n",
    "    ix = torch.randint(low=0, high=Xtr.shape[0], size=(32,)) \n",
    "\n",
    "    # Forward pass\n",
    "    emb = C[Xtr[ix]] \n",
    "    h = torch.tanh(emb.view(-1, 6) @ W1 + b1)\n",
    "    logits = h @ W2 + b2\n",
    "    loss = F.cross_entropy(logits, Ytr[ix])\n",
    "\n",
    "    # Backwardpass\n",
    "    for p in parameters:\n",
    "        p.grad = None\n",
    "    loss.backward()\n",
    "\n",
    "    # Update the parameters\n",
    "    for p in parameters:\n",
    "        p.data += -0.01 * p.grad\n",
    "    \n",
    "    # Track stats\n",
    "    lossi.append(loss.item()) # loss\n",
    "\n",
    "# Training loss\n",
    "emb = C[Xtr] \n",
    "h = torch.tanh(emb.view(-1, 6) @ W1 + b1)\n",
    "logits = h @ W2 + b2\n",
    "loss = F.cross_entropy(logits, Ytr)\n",
    "print(f\"Training loss: {loss.item():.4f}\")\n",
    "\n",
    "# Validation\n",
    "emb = C[Xdev] \n",
    "h = torch.tanh(emb.view(-1, 6) @ W1 + b1)\n",
    "logits = h @ W2 + b2\n",
    "loss = F.cross_entropy(logits, Ydev)\n",
    "print(f\"Validation loss: {loss.item():.4f}\")"
   ]
  },
  {
   "cell_type": "markdown",
   "metadata": {},
   "source": [
    "## Experiment 1 : Larger hidden layer"
   ]
  },
  {
   "cell_type": "code",
   "execution_count": 132,
   "metadata": {},
   "outputs": [
    {
     "name": "stdout",
     "output_type": "stream",
     "text": [
      "Total number of parameters : 10281\n",
      "Training loss: 2.4399\n",
      "Validation loss: 2.4347\n"
     ]
    },
    {
     "data": {
      "image/png": "[encoded data removed]",
      "text/plain": [
       "<Figure size 640x480 with 1 Axes>"
      ]
     },
     "metadata": {},
     "output_type": "display_data"
    }
   ],
   "source": [
    "# Neural network\n",
    "g = torch.Generator().manual_seed(2147483647)\n",
    "C = torch.randn((27, 2), generator=g)\n",
    "W1 = torch.randn((6, 300), generator=g) # Increasing the hidden layer's neurons\n",
    "b1 = torch.randn(300, generator=g) # Increasing the hidden layer's neurons\n",
    "W2 = torch.randn((300, 27), generator=g)\n",
    "b2 = torch.randn(27, generator=g)\n",
    "\n",
    "# Parameters\n",
    "parameters = [C, W1, b1, W2, b2]\n",
    "\n",
    "# Require grad for all parameters:\n",
    "for p in parameters:\n",
    "    p.requires_grad = True\n",
    "\n",
    "print(f\"Total number of parameters : {sum(p.nelement() for p in parameters)}\")\n",
    "\n",
    "# Training on the splits\n",
    "lossi = []\n",
    "stepi = []\n",
    "for i in range(60000): \n",
    "\n",
    "    # Minibatch construct\n",
    "    ix = torch.randint(low=0, high=Xtr.shape[0], size=(32,)) \n",
    "\n",
    "    # Forward pass\n",
    "    emb = C[Xtr[ix]] \n",
    "    h = torch.tanh(emb.view(-1, 6) @ W1 + b1)\n",
    "    logits = h @ W2 + b2\n",
    "    loss = F.cross_entropy(logits, Ytr[ix])\n",
    "\n",
    "    # Backwardpass\n",
    "    for p in parameters:\n",
    "        p.grad = None\n",
    "    loss.backward()\n",
    "\n",
    "    # Update the parameters\n",
    "    for p in parameters:\n",
    "        p.data += -0.01 * p.grad\n",
    "    \n",
    "    # Track stats\n",
    "    lossi.append(loss.item()) \n",
    "    stepi.append(i) # step\n",
    "\n",
    "# Training loss\n",
    "emb = C[Xtr] \n",
    "h = torch.tanh(emb.view(-1, 6) @ W1 + b1)\n",
    "logits = h @ W2 + b2\n",
    "loss = F.cross_entropy(logits, Ytr)\n",
    "print(f\"Training loss: {loss.item():.4f}\")\n",
    "\n",
    "# Validation\n",
    "emb = C[Xdev] \n",
    "h = torch.tanh(emb.view(-1, 6) @ W1 + b1)\n",
    "logits = h @ W2 + b2\n",
    "loss = F.cross_entropy(logits, Ydev)\n",
    "print(f\"Validation loss: {loss.item():.4f}\")\n",
    "\n",
    "plt.plot(stepi, lossi)\n",
    "plt.show()"
   ]
  },
  {
   "cell_type": "markdown",
   "metadata": {},
   "source": [
    "## Visualizing the embeddings"
   ]
  },
  {
   "cell_type": "markdown",
   "metadata": {},
   "source": [
    "The parameters of the embeddings are trained too! As a result we can see some clustering when visualizing the embeddings in the two dimensional space (which is also their actual space)."
   ]
  },
  {
   "cell_type": "code",
   "execution_count": 139,
   "metadata": {},
   "outputs": [
    {
     "data": {
      "image/png": "[encoded data removed]",
      "text/plain": [
       "<Figure size 800x800 with 1 Axes>"
      ]
     },
     "metadata": {},
     "output_type": "display_data"
    }
   ],
   "source": [
    "# visualize dimensions 0 and 1 of the embedding matrix C for all characters\n",
    "plt.figure(figsize=(8,8))\n",
    "plt.scatter(C[:,0].data, C[:,1].data, s=200)\n",
    "for i in range(C.shape[0]):\n",
    "    plt.text(C[i,0].item(), C[i,1].item(), itos[i], ha=\"center\", va=\"center\", color='white')\n",
    "plt.grid('minor')\n",
    "plt.show()"
   ]
  },
  {
   "cell_type": "markdown",
   "metadata": {},
   "source": [
    "## Experiment 2 : Embeddings\n",
    "\n",
    "Idea : It's possible that even though we have increased our hidden layer's size, the network still bottlenecks before it even gets there because of the embeddings size.\n",
    "\n",
    "**Log-loss** : When loss automatically drops we can use log-loss to squash it out.\n",
    "\n",
    "- Note : With our optimizations (increased hidden layer and increased embedding size) we can see that the performance has not only improved but also the performance between the training and validation set diverges more and more, a sign that we are no longer underfitting."
   ]
  },
  {
   "cell_type": "code",
   "execution_count": 144,
   "metadata": {},
   "outputs": [
    {
     "name": "stdout",
     "output_type": "stream",
     "text": [
      "Total number of parameters : 11897\n",
      "Training loss: 2.1924\n",
      "Validation loss: 2.2190\n"
     ]
    },
    {
     "data": {
      "image/png": "[encoded data removed]",
      "text/plain": [
       "<Figure size 640x480 with 1 Axes>"
      ]
     },
     "metadata": {},
     "output_type": "display_data"
    }
   ],
   "source": [
    "# Neural network\n",
    "g = torch.Generator().manual_seed(2147483647)\n",
    "C = torch.randn((27, 10), generator=g)  # Embedding in 10-size dimension instead of 2\n",
    "W1 = torch.randn((30, 200), generator=g) # Input is 3 bigrams encoded in 10-size dimension -> 3 * 10 = 30 weight parameters per neuron\n",
    "b1 = torch.randn(200, generator=g) \n",
    "W2 = torch.randn((200, 27), generator=g)\n",
    "b2 = torch.randn(27, generator=g)\n",
    "\n",
    "# Parameters\n",
    "parameters = [C, W1, b1, W2, b2]\n",
    "\n",
    "# Require grad for all parameters:\n",
    "for p in parameters:\n",
    "    p.requires_grad = True\n",
    "\n",
    "print(f\"Total number of parameters : {sum(p.nelement() for p in parameters)}\")\n",
    "\n",
    "# Training on the splits\n",
    "lossi = []\n",
    "stepi = []\n",
    "\n",
    "for lr in [0.1, 0.01]:\n",
    "    for i in range(50000): \n",
    "\n",
    "        # Minibatch construct\n",
    "        ix = torch.randint(low=0, high=Xtr.shape[0], size=(32,)) \n",
    "\n",
    "        # Forward pass\n",
    "        emb = C[Xtr[ix]] \n",
    "        h = torch.tanh(emb.view(-1, 30) @ W1 + b1)\n",
    "        logits = h @ W2 + b2\n",
    "        loss = F.cross_entropy(logits, Ytr[ix])\n",
    "\n",
    "        # Backwardpass\n",
    "        for p in parameters:\n",
    "            p.grad = None\n",
    "        loss.backward()\n",
    "\n",
    "        # Update the parameters\n",
    "        for p in parameters:\n",
    "            p.data += -lr * p.grad\n",
    "        \n",
    "        # Track stats\n",
    "        lossi.append(loss.log10().item()) # Plotting log loss instead\n",
    "        stepi.append(i) # step\n",
    "\n",
    "# Training loss\n",
    "emb = C[Xtr] \n",
    "h = torch.tanh(emb.view(-1, 30) @ W1 + b1)\n",
    "logits = h @ W2 + b2\n",
    "loss = F.cross_entropy(logits, Ytr)\n",
    "print(f\"Training loss: {loss.item():.4f}\")\n",
    "\n",
    "# Validation\n",
    "emb = C[Xdev] \n",
    "h = torch.tanh(emb.view(-1, 30) @ W1 + b1)\n",
    "logits = h @ W2 + b2\n",
    "loss = F.cross_entropy(logits, Ydev)\n",
    "print(f\"Validation loss: {loss.item():.4f}\")\n",
    "\n",
    "plt.plot(stepi, lossi)\n",
    "plt.show()"
   ]
  },
  {
   "cell_type": "markdown",
   "metadata": {},
   "source": [
    "## Ideas to improve the model even more \n",
    "\n",
    "- Increase the number of neurons in the hidden layer. \n",
    "- Increase the dimensionality of the embedding space. \n",
    "- Increase the number of characters (input/context) that we are feeding to the model (from 3 to 4,5,...).\n",
    "- Optimization details (number of steps, learning rate, learning rate decay, batch size,)"
   ]
  },
  {
   "cell_type": "markdown",
   "metadata": {},
   "source": [
    "## Sampling from the model"
   ]
  },
  {
   "cell_type": "code",
   "execution_count": 145,
   "metadata": {},
   "outputs": [
    {
     "name": "stdout",
     "output_type": "stream",
     "text": [
      "eria.\n",
      "kayah.\n",
      "seel.\n",
      "nihah.\n",
      "lorethan.\n",
      "endra.\n",
      "graderedielin.\n",
      "shi.\n",
      "jenleigh.\n",
      "estanar.\n",
      "elleimahkelin.\n",
      "shubergiag.\n",
      "jest.\n",
      "jairetherrenterofius.\n",
      "kyldi.\n",
      "jamyleyekshiah.\n",
      "myshayde.\n",
      "hil.\n",
      "salyansun.\n",
      "zakhylen.\n"
     ]
    }
   ],
   "source": [
    "# sample from the model\n",
    "g = torch.Generator().manual_seed(2147483647 + 10)\n",
    "\n",
    "for _ in range(20):\n",
    "    \n",
    "    out = []\n",
    "    context = [0] * block_size # initialize with all ...\n",
    "    while True:\n",
    "      emb = C[torch.tensor([context])] # (1,block_size,d)\n",
    "      h = torch.tanh(emb.view(1, -1) @ W1 + b1)\n",
    "      logits = h @ W2 + b2\n",
    "      probs = F.softmax(logits, dim=1)\n",
    "      ix = torch.multinomial(probs, num_samples=1, generator=g).item()\n",
    "      context = context[1:] + [ix]\n",
    "      out.append(ix)\n",
    "      if ix == 0:\n",
    "        break\n",
    "    \n",
    "    print(''.join(itos[i] for i in out))"
   ]
  }
 ],
 "metadata": {
  "kernelspec": {
   "display_name": "transforme",
   "language": "python",
   "name": "python3"
  },
  "language_info": {
   "codemirror_mode": {
    "name": "ipython",
    "version": 3
   },
   "file_extension": ".py",
   "mimetype": "text/x-python",
   "name": "python",
   "nbconvert_exporter": "python",
   "pygments_lexer": "ipython3",
   "version": "3.12.4"
  }
 },
 "nbformat": 4,
 "nbformat_minor": 2
}
